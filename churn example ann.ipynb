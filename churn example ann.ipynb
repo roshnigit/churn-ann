{
 "cells": [
  {
   "cell_type": "code",
   "execution_count": 1,
   "metadata": {},
   "outputs": [],
   "source": [
    "import numpy as np\n",
    "import matplotlib.pyplot as plt\n",
    "import pandas as pd\n",
    "\n"
   ]
  },
  {
   "cell_type": "code",
   "execution_count": 2,
   "metadata": {},
   "outputs": [],
   "source": [
    "# Importing the dataset\n",
    "dataset = pd.read_csv(\"D:\\\\krish models\\\\churn model ann\\\\churn-modellingcsv\\\\Churn_Modelling.csv\")\n"
   ]
  },
  {
   "cell_type": "code",
   "execution_count": 3,
   "metadata": {},
   "outputs": [
    {
     "data": {
      "text/html": [
       "<div>\n",
       "<style scoped>\n",
       "    .dataframe tbody tr th:only-of-type {\n",
       "        vertical-align: middle;\n",
       "    }\n",
       "\n",
       "    .dataframe tbody tr th {\n",
       "        vertical-align: top;\n",
       "    }\n",
       "\n",
       "    .dataframe thead th {\n",
       "        text-align: right;\n",
       "    }\n",
       "</style>\n",
       "<table border=\"1\" class=\"dataframe\">\n",
       "  <thead>\n",
       "    <tr style=\"text-align: right;\">\n",
       "      <th></th>\n",
       "      <th>RowNumber</th>\n",
       "      <th>CustomerId</th>\n",
       "      <th>Surname</th>\n",
       "      <th>CreditScore</th>\n",
       "      <th>Geography</th>\n",
       "      <th>Gender</th>\n",
       "      <th>Age</th>\n",
       "      <th>Tenure</th>\n",
       "      <th>Balance</th>\n",
       "      <th>NumOfProducts</th>\n",
       "      <th>HasCrCard</th>\n",
       "      <th>IsActiveMember</th>\n",
       "      <th>EstimatedSalary</th>\n",
       "      <th>Exited</th>\n",
       "    </tr>\n",
       "  </thead>\n",
       "  <tbody>\n",
       "    <tr>\n",
       "      <td>0</td>\n",
       "      <td>1</td>\n",
       "      <td>15634602</td>\n",
       "      <td>Hargrave</td>\n",
       "      <td>619</td>\n",
       "      <td>France</td>\n",
       "      <td>Female</td>\n",
       "      <td>42</td>\n",
       "      <td>2</td>\n",
       "      <td>0.00</td>\n",
       "      <td>1</td>\n",
       "      <td>1</td>\n",
       "      <td>1</td>\n",
       "      <td>101348.88</td>\n",
       "      <td>1</td>\n",
       "    </tr>\n",
       "    <tr>\n",
       "      <td>1</td>\n",
       "      <td>2</td>\n",
       "      <td>15647311</td>\n",
       "      <td>Hill</td>\n",
       "      <td>608</td>\n",
       "      <td>Spain</td>\n",
       "      <td>Female</td>\n",
       "      <td>41</td>\n",
       "      <td>1</td>\n",
       "      <td>83807.86</td>\n",
       "      <td>1</td>\n",
       "      <td>0</td>\n",
       "      <td>1</td>\n",
       "      <td>112542.58</td>\n",
       "      <td>0</td>\n",
       "    </tr>\n",
       "    <tr>\n",
       "      <td>2</td>\n",
       "      <td>3</td>\n",
       "      <td>15619304</td>\n",
       "      <td>Onio</td>\n",
       "      <td>502</td>\n",
       "      <td>France</td>\n",
       "      <td>Female</td>\n",
       "      <td>42</td>\n",
       "      <td>8</td>\n",
       "      <td>159660.80</td>\n",
       "      <td>3</td>\n",
       "      <td>1</td>\n",
       "      <td>0</td>\n",
       "      <td>113931.57</td>\n",
       "      <td>1</td>\n",
       "    </tr>\n",
       "    <tr>\n",
       "      <td>3</td>\n",
       "      <td>4</td>\n",
       "      <td>15701354</td>\n",
       "      <td>Boni</td>\n",
       "      <td>699</td>\n",
       "      <td>France</td>\n",
       "      <td>Female</td>\n",
       "      <td>39</td>\n",
       "      <td>1</td>\n",
       "      <td>0.00</td>\n",
       "      <td>2</td>\n",
       "      <td>0</td>\n",
       "      <td>0</td>\n",
       "      <td>93826.63</td>\n",
       "      <td>0</td>\n",
       "    </tr>\n",
       "    <tr>\n",
       "      <td>4</td>\n",
       "      <td>5</td>\n",
       "      <td>15737888</td>\n",
       "      <td>Mitchell</td>\n",
       "      <td>850</td>\n",
       "      <td>Spain</td>\n",
       "      <td>Female</td>\n",
       "      <td>43</td>\n",
       "      <td>2</td>\n",
       "      <td>125510.82</td>\n",
       "      <td>1</td>\n",
       "      <td>1</td>\n",
       "      <td>1</td>\n",
       "      <td>79084.10</td>\n",
       "      <td>0</td>\n",
       "    </tr>\n",
       "  </tbody>\n",
       "</table>\n",
       "</div>"
      ],
      "text/plain": [
       "   RowNumber  CustomerId   Surname  CreditScore Geography  Gender  Age  \\\n",
       "0          1    15634602  Hargrave          619    France  Female   42   \n",
       "1          2    15647311      Hill          608     Spain  Female   41   \n",
       "2          3    15619304      Onio          502    France  Female   42   \n",
       "3          4    15701354      Boni          699    France  Female   39   \n",
       "4          5    15737888  Mitchell          850     Spain  Female   43   \n",
       "\n",
       "   Tenure    Balance  NumOfProducts  HasCrCard  IsActiveMember  \\\n",
       "0       2       0.00              1          1               1   \n",
       "1       1   83807.86              1          0               1   \n",
       "2       8  159660.80              3          1               0   \n",
       "3       1       0.00              2          0               0   \n",
       "4       2  125510.82              1          1               1   \n",
       "\n",
       "   EstimatedSalary  Exited  \n",
       "0        101348.88       1  \n",
       "1        112542.58       0  \n",
       "2        113931.57       1  \n",
       "3         93826.63       0  \n",
       "4         79084.10       0  "
      ]
     },
     "execution_count": 3,
     "metadata": {},
     "output_type": "execute_result"
    }
   ],
   "source": [
    "dataset.head()"
   ]
  },
  {
   "cell_type": "code",
   "execution_count": 5,
   "metadata": {},
   "outputs": [],
   "source": [
    "X = dataset.iloc[:, 3:13]\n",
    "y = dataset.iloc[:, 13]\n"
   ]
  },
  {
   "cell_type": "code",
   "execution_count": null,
   "metadata": {},
   "outputs": [],
   "source": []
  },
  {
   "cell_type": "code",
   "execution_count": 8,
   "metadata": {},
   "outputs": [],
   "source": [
    "#Create dummy variables\n",
    "geography=pd.get_dummies(X[\"Geography\"],drop_first=True)\n",
    "gender=pd.get_dummies(X['Gender'],drop_first=True)\n",
    "\n"
   ]
  },
  {
   "cell_type": "code",
   "execution_count": 9,
   "metadata": {},
   "outputs": [],
   "source": [
    "## Concatenate the Data Frames\n",
    "\n",
    "X=pd.concat([X,geography,gender],axis=1)\n",
    "\n",
    "## Drop Unnecessary columns\n",
    "X=X.drop(['Geography','Gender'],axis=1)\n",
    "\n"
   ]
  },
  {
   "cell_type": "code",
   "execution_count": 10,
   "metadata": {},
   "outputs": [],
   "source": [
    "# Splitting the dataset into the Training set and Test set\n",
    "from sklearn.model_selection import train_test_split\n",
    "X_train, X_test, y_train, y_test = train_test_split(X, y, test_size = 0.2, random_state = 0)\n",
    "\n"
   ]
  },
  {
   "cell_type": "code",
   "execution_count": 11,
   "metadata": {},
   "outputs": [],
   "source": [
    "# Feature Scaling\n",
    "from sklearn.preprocessing import StandardScaler\n",
    "sc = StandardScaler()\n",
    "X_train = sc.fit_transform(X_train)\n",
    "X_test = sc.transform(X_test)\n",
    "\n"
   ]
  },
  {
   "cell_type": "code",
   "execution_count": 12,
   "metadata": {},
   "outputs": [
    {
     "name": "stderr",
     "output_type": "stream",
     "text": [
      "Using TensorFlow backend.\n",
      "C:\\Users\\USER\\AppData\\Local\\Continuum\\anaconda3\\lib\\site-packages\\ipykernel_launcher.py:15: UserWarning: Update your `Dense` call to the Keras 2 API: `Dense(activation=\"relu\", input_dim=11, units=6, kernel_initializer=\"he_uniform\")`\n",
      "  from ipykernel import kernelapp as app\n",
      "C:\\Users\\USER\\AppData\\Local\\Continuum\\anaconda3\\lib\\site-packages\\ipykernel_launcher.py:18: UserWarning: Update your `Dense` call to the Keras 2 API: `Dense(activation=\"relu\", units=6, kernel_initializer=\"he_uniform\")`\n",
      "C:\\Users\\USER\\AppData\\Local\\Continuum\\anaconda3\\lib\\site-packages\\ipykernel_launcher.py:20: UserWarning: Update your `Dense` call to the Keras 2 API: `Dense(activation=\"sigmoid\", units=1, kernel_initializer=\"glorot_uniform\")`\n",
      "C:\\Users\\USER\\AppData\\Local\\Continuum\\anaconda3\\lib\\site-packages\\ipykernel_launcher.py:26: UserWarning: The `nb_epoch` argument in `fit` has been renamed `epochs`.\n"
     ]
    },
    {
     "name": "stdout",
     "output_type": "stream",
     "text": [
      "Train on 5359 samples, validate on 2641 samples\n",
      "Epoch 1/100\n",
      "5359/5359 [==============================] - 3s 639us/step - loss: 0.5828 - accuracy: 0.7313 - val_loss: 0.5195 - val_accuracy: 0.7698\n",
      "Epoch 2/100\n",
      "5359/5359 [==============================] - 2s 406us/step - loss: 0.4834 - accuracy: 0.7919 - val_loss: 0.4810 - val_accuracy: 0.7917\n",
      "Epoch 3/100\n",
      "5359/5359 [==============================] - 1s 257us/step - loss: 0.4567 - accuracy: 0.8099 - val_loss: 0.4643 - val_accuracy: 0.7974\n",
      "Epoch 4/100\n",
      "5359/5359 [==============================] - 1s 260us/step - loss: 0.4439 - accuracy: 0.8132 - val_loss: 0.4576 - val_accuracy: 0.8050\n",
      "Epoch 5/100\n",
      "5359/5359 [==============================] - 1s 250us/step - loss: 0.4368 - accuracy: 0.8156 - val_loss: 0.4518 - val_accuracy: 0.8046\n",
      "Epoch 6/100\n",
      "5359/5359 [==============================] - 2s 299us/step - loss: 0.4319 - accuracy: 0.8173 - val_loss: 0.4487 - val_accuracy: 0.8065\n",
      "Epoch 7/100\n",
      "5359/5359 [==============================] - 2s 389us/step - loss: 0.4282 - accuracy: 0.8190 - val_loss: 0.4460 - val_accuracy: 0.8058\n",
      "Epoch 8/100\n",
      "5359/5359 [==============================] - 1s 253us/step - loss: 0.4249 - accuracy: 0.8205 - val_loss: 0.4432 - val_accuracy: 0.8114\n",
      "Epoch 9/100\n",
      "5359/5359 [==============================] - 1s 268us/step - loss: 0.4223 - accuracy: 0.8210 - val_loss: 0.4406 - val_accuracy: 0.8080\n",
      "Epoch 10/100\n",
      "5359/5359 [==============================] - 1s 268us/step - loss: 0.4200 - accuracy: 0.8210 - val_loss: 0.4384 - val_accuracy: 0.8084\n",
      "Epoch 11/100\n",
      "5359/5359 [==============================] - 1s 275us/step - loss: 0.4176 - accuracy: 0.8220 - val_loss: 0.4367 - val_accuracy: 0.8107\n",
      "Epoch 12/100\n",
      "5359/5359 [==============================] - 3s 486us/step - loss: 0.4157 - accuracy: 0.8238 - val_loss: 0.4341 - val_accuracy: 0.8126\n",
      "Epoch 13/100\n",
      "5359/5359 [==============================] - 1s 270us/step - loss: 0.4136 - accuracy: 0.8214 - val_loss: 0.4322 - val_accuracy: 0.8114\n",
      "Epoch 14/100\n",
      "5359/5359 [==============================] - 1s 274us/step - loss: 0.4120 - accuracy: 0.8242 - val_loss: 0.4305 - val_accuracy: 0.8137\n",
      "Epoch 15/100\n",
      "5359/5359 [==============================] - 1s 267us/step - loss: 0.4103 - accuracy: 0.8237 - val_loss: 0.4285 - val_accuracy: 0.8148\n",
      "Epoch 16/100\n",
      "5359/5359 [==============================] - 1s 261us/step - loss: 0.4087 - accuracy: 0.8261 - val_loss: 0.4273 - val_accuracy: 0.8152\n",
      "Epoch 17/100\n",
      "5359/5359 [==============================] - 1s 257us/step - loss: 0.4074 - accuracy: 0.8255 - val_loss: 0.4255 - val_accuracy: 0.8171\n",
      "Epoch 18/100\n",
      "5359/5359 [==============================] - 1s 252us/step - loss: 0.4060 - accuracy: 0.8270 - val_loss: 0.4238 - val_accuracy: 0.8183\n",
      "Epoch 19/100\n",
      "5359/5359 [==============================] - 1s 258us/step - loss: 0.4047 - accuracy: 0.8280 - val_loss: 0.4224 - val_accuracy: 0.8194\n",
      "Epoch 20/100\n",
      "5359/5359 [==============================] - 1s 276us/step - loss: 0.4033 - accuracy: 0.8274 - val_loss: 0.4211 - val_accuracy: 0.8194\n",
      "Epoch 21/100\n",
      "5359/5359 [==============================] - 1s 259us/step - loss: 0.4023 - accuracy: 0.8276 - val_loss: 0.4200 - val_accuracy: 0.8201\n",
      "Epoch 22/100\n",
      "5359/5359 [==============================] - 1s 253us/step - loss: 0.4009 - accuracy: 0.8283 - val_loss: 0.4185 - val_accuracy: 0.8201\n",
      "Epoch 23/100\n",
      "5359/5359 [==============================] - 1s 256us/step - loss: 0.3993 - accuracy: 0.8276 - val_loss: 0.4163 - val_accuracy: 0.8213\n",
      "Epoch 24/100\n",
      "5359/5359 [==============================] - 1s 267us/step - loss: 0.3977 - accuracy: 0.8296 - val_loss: 0.4150 - val_accuracy: 0.8232\n",
      "Epoch 25/100\n",
      "5359/5359 [==============================] - 1s 254us/step - loss: 0.3955 - accuracy: 0.8298 - val_loss: 0.4137 - val_accuracy: 0.8224\n",
      "Epoch 26/100\n",
      "5359/5359 [==============================] - 1s 257us/step - loss: 0.3943 - accuracy: 0.8294 - val_loss: 0.4114 - val_accuracy: 0.8258\n",
      "Epoch 27/100\n",
      "5359/5359 [==============================] - 1s 258us/step - loss: 0.3923 - accuracy: 0.8328 - val_loss: 0.4101 - val_accuracy: 0.8270\n",
      "Epoch 28/100\n",
      "5359/5359 [==============================] - 1s 275us/step - loss: 0.3905 - accuracy: 0.8330 - val_loss: 0.4088 - val_accuracy: 0.8262\n",
      "Epoch 29/100\n",
      "5359/5359 [==============================] - 1s 252us/step - loss: 0.3885 - accuracy: 0.8330 - val_loss: 0.4063 - val_accuracy: 0.8296\n",
      "Epoch 30/100\n",
      "5359/5359 [==============================] - 1s 255us/step - loss: 0.3870 - accuracy: 0.8334 - val_loss: 0.4048 - val_accuracy: 0.8319\n",
      "Epoch 31/100\n",
      "5359/5359 [==============================] - 1s 253us/step - loss: 0.3849 - accuracy: 0.8356 - val_loss: 0.4038 - val_accuracy: 0.8304\n",
      "Epoch 32/100\n",
      "5359/5359 [==============================] - 1s 266us/step - loss: 0.3830 - accuracy: 0.8362 - val_loss: 0.4015 - val_accuracy: 0.8326\n",
      "Epoch 33/100\n",
      "5359/5359 [==============================] - 1s 252us/step - loss: 0.3809 - accuracy: 0.8395 - val_loss: 0.3993 - val_accuracy: 0.8326\n",
      "Epoch 34/100\n",
      "5359/5359 [==============================] - 1s 266us/step - loss: 0.3788 - accuracy: 0.8408 - val_loss: 0.3977 - val_accuracy: 0.8342\n",
      "Epoch 35/100\n",
      "5359/5359 [==============================] - 2s 309us/step - loss: 0.3773 - accuracy: 0.8418 - val_loss: 0.3955 - val_accuracy: 0.8364\n",
      "Epoch 36/100\n",
      "5359/5359 [==============================] - 1s 275us/step - loss: 0.3752 - accuracy: 0.8408 - val_loss: 0.3943 - val_accuracy: 0.8372\n",
      "Epoch 37/100\n",
      "5359/5359 [==============================] - 1s 265us/step - loss: 0.3734 - accuracy: 0.8416 - val_loss: 0.3926 - val_accuracy: 0.8383\n",
      "Epoch 38/100\n",
      "5359/5359 [==============================] - 1s 268us/step - loss: 0.3717 - accuracy: 0.8434 - val_loss: 0.3900 - val_accuracy: 0.8402\n",
      "Epoch 39/100\n",
      "5359/5359 [==============================] - 1s 275us/step - loss: 0.3695 - accuracy: 0.8427 - val_loss: 0.3883 - val_accuracy: 0.8413\n",
      "Epoch 40/100\n",
      "5359/5359 [==============================] - 1s 278us/step - loss: 0.3678 - accuracy: 0.8455 - val_loss: 0.3871 - val_accuracy: 0.8410\n",
      "Epoch 41/100\n",
      "5359/5359 [==============================] - 1s 264us/step - loss: 0.3665 - accuracy: 0.8453 - val_loss: 0.3838 - val_accuracy: 0.8444\n",
      "Epoch 42/100\n",
      "5359/5359 [==============================] - 2s 286us/step - loss: 0.3646 - accuracy: 0.8461 - val_loss: 0.3828 - val_accuracy: 0.8436\n",
      "Epoch 43/100\n",
      "5359/5359 [==============================] - 2s 336us/step - loss: 0.3627 - accuracy: 0.8485 - val_loss: 0.3801 - val_accuracy: 0.8463\n",
      "Epoch 44/100\n",
      "5359/5359 [==============================] - 2s 350us/step - loss: 0.3615 - accuracy: 0.8489 - val_loss: 0.3779 - val_accuracy: 0.8474\n",
      "Epoch 45/100\n",
      "5359/5359 [==============================] - 2s 418us/step - loss: 0.3596 - accuracy: 0.8503 - val_loss: 0.3774 - val_accuracy: 0.8436\n",
      "Epoch 46/100\n",
      "5359/5359 [==============================] - 2s 286us/step - loss: 0.3586 - accuracy: 0.8505 - val_loss: 0.3741 - val_accuracy: 0.8459\n",
      "Epoch 47/100\n",
      "5359/5359 [==============================] - 2s 414us/step - loss: 0.3573 - accuracy: 0.8528 - val_loss: 0.3729 - val_accuracy: 0.8482\n",
      "Epoch 48/100\n",
      "5359/5359 [==============================] - 2s 453us/step - loss: 0.3560 - accuracy: 0.8541 - val_loss: 0.3711 - val_accuracy: 0.8485\n",
      "Epoch 49/100\n",
      "5359/5359 [==============================] - 1s 256us/step - loss: 0.3546 - accuracy: 0.8511 - val_loss: 0.3692 - val_accuracy: 0.8489\n",
      "Epoch 50/100\n",
      "5359/5359 [==============================] - 1s 258us/step - loss: 0.3528 - accuracy: 0.8548 - val_loss: 0.3680 - val_accuracy: 0.8455\n",
      "Epoch 51/100\n",
      "5359/5359 [==============================] - 2s 383us/step - loss: 0.3516 - accuracy: 0.8559 - val_loss: 0.3679 - val_accuracy: 0.8466\n",
      "Epoch 52/100\n",
      "5359/5359 [==============================] - 2s 323us/step - loss: 0.3506 - accuracy: 0.8552 - val_loss: 0.3670 - val_accuracy: 0.8478\n",
      "Epoch 53/100\n",
      "5359/5359 [==============================] - 2s 314us/step - loss: 0.3496 - accuracy: 0.8572 - val_loss: 0.3652 - val_accuracy: 0.8504\n",
      "Epoch 54/100\n",
      "5359/5359 [==============================] - 2s 313us/step - loss: 0.3480 - accuracy: 0.8584 - val_loss: 0.3655 - val_accuracy: 0.8538\n",
      "Epoch 55/100\n",
      "5359/5359 [==============================] - 2s 327us/step - loss: 0.3473 - accuracy: 0.8552 - val_loss: 0.3627 - val_accuracy: 0.8519\n",
      "Epoch 56/100\n"
     ]
    },
    {
     "name": "stdout",
     "output_type": "stream",
     "text": [
      "5359/5359 [==============================] - 2s 340us/step - loss: 0.3463 - accuracy: 0.8569 - val_loss: 0.3625 - val_accuracy: 0.8519\n",
      "Epoch 57/100\n",
      "5359/5359 [==============================] - 3s 518us/step - loss: 0.3449 - accuracy: 0.8582 - val_loss: 0.3632 - val_accuracy: 0.8535\n",
      "Epoch 58/100\n",
      "5359/5359 [==============================] - 2s 316us/step - loss: 0.3445 - accuracy: 0.8599 - val_loss: 0.3611 - val_accuracy: 0.8546\n",
      "Epoch 59/100\n",
      "5359/5359 [==============================] - 2s 340us/step - loss: 0.3436 - accuracy: 0.8604 - val_loss: 0.3616 - val_accuracy: 0.8519\n",
      "Epoch 60/100\n",
      "5359/5359 [==============================] - 2s 335us/step - loss: 0.3438 - accuracy: 0.8597 - val_loss: 0.3596 - val_accuracy: 0.8542\n",
      "Epoch 61/100\n",
      "5359/5359 [==============================] - 2s 304us/step - loss: 0.3426 - accuracy: 0.8599 - val_loss: 0.3595 - val_accuracy: 0.8542\n",
      "Epoch 62/100\n",
      "5359/5359 [==============================] - 2s 422us/step - loss: 0.3420 - accuracy: 0.8580 - val_loss: 0.3582 - val_accuracy: 0.8550\n",
      "Epoch 63/100\n",
      "5359/5359 [==============================] - 2s 306us/step - loss: 0.3409 - accuracy: 0.8612 - val_loss: 0.3587 - val_accuracy: 0.8538\n",
      "Epoch 64/100\n",
      "5359/5359 [==============================] - 1s 279us/step - loss: 0.3408 - accuracy: 0.8604 - val_loss: 0.3578 - val_accuracy: 0.8542\n",
      "Epoch 65/100\n",
      "5359/5359 [==============================] - 2s 308us/step - loss: 0.3403 - accuracy: 0.8615 - val_loss: 0.3564 - val_accuracy: 0.8557\n",
      "Epoch 66/100\n",
      "5359/5359 [==============================] - 2s 309us/step - loss: 0.3399 - accuracy: 0.8587 - val_loss: 0.3565 - val_accuracy: 0.8557\n",
      "Epoch 67/100\n",
      "5359/5359 [==============================] - 2s 315us/step - loss: 0.3394 - accuracy: 0.8617 - val_loss: 0.3564 - val_accuracy: 0.8561\n",
      "Epoch 68/100\n",
      "5359/5359 [==============================] - 2s 314us/step - loss: 0.3386 - accuracy: 0.8608 - val_loss: 0.3558 - val_accuracy: 0.8569\n",
      "Epoch 69/100\n",
      "5359/5359 [==============================] - 2s 333us/step - loss: 0.3384 - accuracy: 0.8610 - val_loss: 0.3555 - val_accuracy: 0.8554\n",
      "Epoch 70/100\n",
      "5359/5359 [==============================] - 2s 318us/step - loss: 0.3380 - accuracy: 0.8617 - val_loss: 0.3555 - val_accuracy: 0.8557\n",
      "Epoch 71/100\n",
      "5359/5359 [==============================] - 1s 276us/step - loss: 0.3374 - accuracy: 0.8615 - val_loss: 0.3548 - val_accuracy: 0.8561\n",
      "Epoch 72/100\n",
      "5359/5359 [==============================] - 3s 549us/step - loss: 0.3373 - accuracy: 0.8623 - val_loss: 0.3544 - val_accuracy: 0.8565\n",
      "Epoch 73/100\n",
      "5359/5359 [==============================] - 2s 335us/step - loss: 0.3364 - accuracy: 0.8595 - val_loss: 0.3556 - val_accuracy: 0.8550\n",
      "Epoch 74/100\n",
      "5359/5359 [==============================] - 1s 259us/step - loss: 0.3365 - accuracy: 0.8628 - val_loss: 0.3539 - val_accuracy: 0.8595\n",
      "Epoch 75/100\n",
      "5359/5359 [==============================] - 1s 257us/step - loss: 0.3359 - accuracy: 0.8638 - val_loss: 0.3534 - val_accuracy: 0.8569\n",
      "Epoch 76/100\n",
      "5359/5359 [==============================] - 2s 302us/step - loss: 0.3352 - accuracy: 0.8627 - val_loss: 0.3545 - val_accuracy: 0.8595\n",
      "Epoch 77/100\n",
      "5359/5359 [==============================] - 2s 330us/step - loss: 0.3350 - accuracy: 0.8621 - val_loss: 0.3528 - val_accuracy: 0.8538\n",
      "Epoch 78/100\n",
      "5359/5359 [==============================] - 3s 548us/step - loss: 0.3345 - accuracy: 0.8621 - val_loss: 0.3542 - val_accuracy: 0.8542\n",
      "Epoch 79/100\n",
      "5359/5359 [==============================] - 3s 490us/step - loss: 0.3348 - accuracy: 0.8619 - val_loss: 0.3528 - val_accuracy: 0.8595\n",
      "Epoch 80/100\n",
      "5359/5359 [==============================] - 2s 343us/step - loss: 0.3345 - accuracy: 0.8630 - val_loss: 0.3519 - val_accuracy: 0.8576\n",
      "Epoch 81/100\n",
      "5359/5359 [==============================] - 2s 464us/step - loss: 0.3339 - accuracy: 0.8584 - val_loss: 0.3525 - val_accuracy: 0.8580\n",
      "Epoch 82/100\n",
      "5359/5359 [==============================] - 2s 282us/step - loss: 0.3334 - accuracy: 0.8630 - val_loss: 0.3527 - val_accuracy: 0.8535\n",
      "Epoch 83/100\n",
      "5359/5359 [==============================] - 2s 334us/step - loss: 0.3337 - accuracy: 0.8632 - val_loss: 0.3517 - val_accuracy: 0.8569\n",
      "Epoch 84/100\n",
      "5359/5359 [==============================] - 3s 483us/step - loss: 0.3332 - accuracy: 0.8606 - val_loss: 0.3522 - val_accuracy: 0.8580\n",
      "Epoch 85/100\n",
      "5359/5359 [==============================] - 3s 550us/step - loss: 0.3330 - accuracy: 0.8643 - val_loss: 0.3519 - val_accuracy: 0.8573\n",
      "Epoch 86/100\n",
      "5359/5359 [==============================] - 2s 452us/step - loss: 0.3329 - accuracy: 0.8619 - val_loss: 0.3518 - val_accuracy: 0.8561\n",
      "Epoch 87/100\n",
      "5359/5359 [==============================] - 2s 315us/step - loss: 0.3322 - accuracy: 0.8621 - val_loss: 0.3517 - val_accuracy: 0.8580\n",
      "Epoch 88/100\n",
      "5359/5359 [==============================] - 2s 328us/step - loss: 0.3324 - accuracy: 0.8643 - val_loss: 0.3520 - val_accuracy: 0.8565\n",
      "Epoch 89/100\n",
      "5359/5359 [==============================] - 2s 416us/step - loss: 0.3320 - accuracy: 0.8636 - val_loss: 0.3517 - val_accuracy: 0.8527\n",
      "Epoch 90/100\n",
      "5359/5359 [==============================] - 1s 252us/step - loss: 0.3321 - accuracy: 0.8632 - val_loss: 0.3517 - val_accuracy: 0.8535\n",
      "Epoch 91/100\n",
      "5359/5359 [==============================] - 1s 257us/step - loss: 0.3317 - accuracy: 0.8651 - val_loss: 0.3530 - val_accuracy: 0.8531\n",
      "Epoch 92/100\n",
      "5359/5359 [==============================] - 1s 260us/step - loss: 0.3318 - accuracy: 0.8625 - val_loss: 0.3519 - val_accuracy: 0.8550\n",
      "Epoch 93/100\n",
      "5359/5359 [==============================] - 1s 272us/step - loss: 0.3315 - accuracy: 0.8636 - val_loss: 0.3517 - val_accuracy: 0.8546\n",
      "Epoch 94/100\n",
      "5359/5359 [==============================] - 1s 255us/step - loss: 0.3315 - accuracy: 0.8634 - val_loss: 0.3523 - val_accuracy: 0.8565\n",
      "Epoch 95/100\n",
      "5359/5359 [==============================] - 1s 256us/step - loss: 0.3313 - accuracy: 0.8640 - val_loss: 0.3514 - val_accuracy: 0.8535\n",
      "Epoch 96/100\n",
      "5359/5359 [==============================] - 1s 276us/step - loss: 0.3308 - accuracy: 0.8643 - val_loss: 0.3515 - val_accuracy: 0.8523\n",
      "Epoch 97/100\n",
      "5359/5359 [==============================] - 2s 308us/step - loss: 0.3304 - accuracy: 0.8623 - val_loss: 0.3533 - val_accuracy: 0.8599\n",
      "Epoch 98/100\n",
      "5359/5359 [==============================] - 2s 292us/step - loss: 0.3311 - accuracy: 0.8627 - val_loss: 0.3517 - val_accuracy: 0.8573\n",
      "Epoch 99/100\n",
      "5359/5359 [==============================] - 2s 316us/step - loss: 0.3307 - accuracy: 0.8632 - val_loss: 0.3508 - val_accuracy: 0.8565\n",
      "Epoch 100/100\n",
      "5359/5359 [==============================] - 2s 375us/step - loss: 0.3306 - accuracy: 0.8640 - val_loss: 0.3519 - val_accuracy: 0.8531\n"
     ]
    }
   ],
   "source": [
    "# Part 2 - Now let's make the ANN!\n",
    "\n",
    "# Importing the Keras libraries and packages\n",
    "import keras\n",
    "from keras.models import Sequential\n",
    "from keras.layers import Dense\n",
    "from keras.layers import LeakyReLU,PReLU,ELU\n",
    "from keras.layers import Dropout\n",
    "\n",
    "\n",
    "# Initialising the ANN\n",
    "classifier = Sequential()\n",
    "\n",
    "# Adding the input layer and the first hidden layer\n",
    "classifier.add(Dense(output_dim = 6, init = 'he_uniform',activation='relu',input_dim = 11))\n",
    "\n",
    "# Adding the second hidden layer\n",
    "classifier.add(Dense(output_dim = 6, init = 'he_uniform',activation='relu'))\n",
    "# Adding the output layer\n",
    "classifier.add(Dense(output_dim = 1, init = 'glorot_uniform', activation = 'sigmoid'))\n",
    "\n",
    "# Compiling the ANN\n",
    "classifier.compile(optimizer = 'Adamax', loss = 'binary_crossentropy', metrics = ['accuracy'])\n",
    "\n",
    "# Fitting the ANN to the Training set\n",
    "model_history=classifier.fit(X_train, y_train,validation_split=0.33, batch_size = 10, nb_epoch = 100)\n",
    "\n"
   ]
  },
  {
   "cell_type": "code",
   "execution_count": 13,
   "metadata": {},
   "outputs": [
    {
     "name": "stdout",
     "output_type": "stream",
     "text": [
      "dict_keys(['val_loss', 'val_accuracy', 'loss', 'accuracy'])\n"
     ]
    }
   ],
   "source": [
    "# list all data in history\n",
    "\n",
    "print(model_history.history.keys())\n"
   ]
  },
  {
   "cell_type": "code",
   "execution_count": 18,
   "metadata": {},
   "outputs": [
    {
     "data": {
      "image/png": "[encoded data removed]",
      "text/plain": [
       "<Figure size 432x288 with 1 Axes>"
      ]
     },
     "metadata": {
      "needs_background": "light"
     },
     "output_type": "display_data"
    }
   ],
   "source": [
    "\n",
    "\n",
    "# summarize history for loss\n",
    "plt.plot(model_history.history['loss'])\n",
    "plt.plot(model_history.history['val_loss'])\n",
    "plt.title('model loss')\n",
    "plt.ylabel('loss')\n",
    "plt.xlabel('epoch')\n",
    "plt.legend(['train', 'test'], loc='upper left')\n",
    "plt.show()\n"
   ]
  },
  {
   "cell_type": "code",
   "execution_count": 19,
   "metadata": {},
   "outputs": [],
   "source": [
    "\n",
    "# Part 3 - Making the predictions and evaluating the model\n",
    "\n",
    "# Predicting the Test set results\n",
    "y_pred = classifier.predict(X_test)\n",
    "y_pred = (y_pred > 0.5)\n",
    "\n"
   ]
  },
  {
   "cell_type": "code",
   "execution_count": 21,
   "metadata": {},
   "outputs": [
    {
     "data": {
      "text/plain": [
       "array([[1525,   70],\n",
       "       [ 210,  195]], dtype=int64)"
      ]
     },
     "execution_count": 21,
     "metadata": {},
     "output_type": "execute_result"
    }
   ],
   "source": [
    "# Making the Confusion Matrix\n",
    "from sklearn.metrics import confusion_matrix\n",
    "cm = confusion_matrix(y_test, y_pred)\n",
    "cm"
   ]
  },
  {
   "cell_type": "code",
   "execution_count": 22,
   "metadata": {},
   "outputs": [
    {
     "data": {
      "text/plain": [
       "0.86"
      ]
     },
     "execution_count": 22,
     "metadata": {},
     "output_type": "execute_result"
    }
   ],
   "source": [
    "\n",
    "\n",
    "# Calculate the Accuracy\n",
    "from sklearn.metrics import accuracy_score\n",
    "score=accuracy_score(y_pred,y_test)\n",
    "score"
   ]
  },
  {
   "cell_type": "code",
   "execution_count": 25,
   "metadata": {},
   "outputs": [
    {
     "data": {
      "image/png": "[encoded data removed]",
      "text/plain": [
       "<Figure size 432x288 with 1 Axes>"
      ]
     },
     "metadata": {
      "needs_background": "light"
     },
     "output_type": "display_data"
    }
   ],
   "source": [
    "plt.plot(model_history.history['accuracy'])\n",
    "plt.plot(model_history.history['val_accuracy'])\n",
    "plt.title('model accuracy')\n",
    "plt.ylabel('accuracy')\n",
    "plt.xlabel('epoch')\n",
    "plt.legend(['train', 'test'], loc='upper left')\n",
    "plt.show()\n"
   ]
  },
  {
   "cell_type": "code",
   "execution_count": null,
   "metadata": {},
   "outputs": [],
   "source": []
  }
 ],
 "metadata": {
  "kernelspec": {
   "display_name": "Python 3",
   "language": "python",
   "name": "python3"
  },
  "language_info": {
   "codemirror_mode": {
    "name": "ipython",
    "version": 3
   },
   "file_extension": ".py",
   "mimetype": "text/x-python",
   "name": "python",
   "nbconvert_exporter": "python",
   "pygments_lexer": "ipython3",
   "version": "3.7.4"
  }
 },
 "nbformat": 4,
 "nbformat_minor": 2
}
